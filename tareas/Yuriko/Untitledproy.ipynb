{
 "cells": [
  {
   "cell_type": "markdown",
   "metadata": {},
   "source": [
    "# Teorema de Sarkovskii\n",
    "##### Yamamoto Elizalde Alejandra Yuriko"
   ]
  },
  {
   "cell_type": "markdown",
   "metadata": {
    "collapsed": true
   },
   "source": [
    "Teoría"
   ]
  },
  {
   "cell_type": "markdown",
   "metadata": {},
   "source": [
    "Ordenamiento de Sarkovski:\n",
    "\n",
    "* Impares\n",
    "* Doble de Impares\n",
    "* Cuádruple\n",
    "\n",
    ".\n",
    ".\n",
    ".\n",
    "* Potencias de 2 y 1"
   ]
  },
  {
   "cell_type": "markdown",
   "metadata": {},
   "source": [
    "3 > 5 > 7 > ... > 1001 > ...\n",
    "2.3 > 2.5 > 2.7 > ... > 2.1001 > ...\n",
    "2^2.3 > 2^2.5 > 2^2.7 > ... > 2^2.1001 > ...\n",
    "2^3.3 > 2^3.5 > 2^3.7 > ... > 2^3.1001 > ...\n",
    ".\n",
    ".\n",
    ".\n",
    "... > 2^1001 >... > 2^4 > 2^3 > 2^2 > 2 > 1"
   ]
  },
  {
   "cell_type": "markdown",
   "metadata": {},
   "source": [
    "#### Teorema de Sarkovskii\n",
    "\n",
    "Sea *I* un intervalo en *R*. Sean *n* y *k* números naturales tal que *n* precede a *k*. Supongamos *F: I -> I* continua que tiene un punto periódico de periodo *n*, entonces *F* también tiene un punto periódico de periodo *k*."
   ]
  },
  {
   "cell_type": "code",
   "execution_count": null,
   "metadata": {
    "collapsed": true
   },
   "outputs": [],
   "source": [
    "El sentido contrario también es cierto."
   ]
  },
  {
   "cell_type": "code",
   "execution_count": 8,
   "metadata": {
    "collapsed": false
   },
   "outputs": [
    {
     "ename": "LoadError",
     "evalue": "LoadError: syntax: extra token \"f1\" after end of expression\nwhile loading In[8], in expression starting on line 16",
     "output_type": "error",
     "traceback": [
      "LoadError: syntax: extra token \"f1\" after end of expression\nwhile loading In[8], in expression starting on line 16",
      ""
     ]
    }
   ],
   "source": [
    "#Función que crea funciones lineales a cachos\n",
    "function func(m::Int64)\n",
    "    #f\n",
    "    if x in 1:m\n",
    "        f1 == 2m + 2 - x\n",
    "        if x in m:m+1\n",
    "            f2 == -2(x-m) + (m+2)\n",
    "            if x in m+1:2m\n",
    "                f3 == -(x-(m+1)) + m\n",
    "                if x in 2m:2m+1\n",
    "                    f4 == m(x-2m) + 1\n",
    "                end\n",
    "            end\n",
    "        end\n",
    "    end\n",
    "    println f1,f2,f3,f4\n",
    "    #println f2\n",
    "    #println f3\n",
    "    #println f4\n",
    "end"
   ]
  },
  {
   "cell_type": "code",
   "execution_count": 4,
   "metadata": {
    "collapsed": false
   },
   "outputs": [
    {
     "ename": "LoadError",
     "evalue": "LoadError: UndefVarError: x not defined\nwhile loading In[4], in expression starting on line 1",
     "output_type": "error",
     "traceback": [
      "LoadError: UndefVarError: x not defined\nwhile loading In[4], in expression starting on line 1",
      "",
      " in func at In[3]:4"
     ]
    }
   ],
   "source": [
    "func(1)"
   ]
  },
  {
   "cell_type": "code",
   "execution_count": 11,
   "metadata": {
    "collapsed": false
   },
   "outputs": [
    {
     "ename": "LoadError",
     "evalue": "LoadError: TypeError: Tuple: in parameter, expected Type{T}, got Function\nwhile loading In[11], in expression starting on line 1",
     "output_type": "error",
     "traceback": [
      "LoadError: TypeError: Tuple: in parameter, expected Type{T}, got Function\nwhile loading In[11], in expression starting on line 1",
      ""
     ]
    }
   ],
   "source": [
    "function Fun(x::real)\n",
    "    \n",
    "    if x in 1:2\n",
    "        f = 6-x\n",
    "        if x in 2:3\n",
    "            f = -2(x-2)+4\n",
    "            if x in 3:4\n",
    "                f = 5-x\n",
    "                if x in 4:5\n",
    "                    f =2(x-4) + 1\n",
    "                end\n",
    "            end\n",
    "        end\n",
    "    end\n",
    "    return f\n",
    "    #print f1,f2,f3,f4\n",
    "    #println f2\n",
    "    #println f3\n",
    "    #println f4\n",
    "end"
   ]
  },
  {
   "cell_type": "code",
   "execution_count": null,
   "metadata": {
    "collapsed": true
   },
   "outputs": [],
   "source": [
    "function functx con otro nombre"
   ]
  },
  {
   "cell_type": "code",
   "execution_count": null,
   "metadata": {
    "collapsed": true
   },
   "outputs": [],
   "source": [
    "function funci nueva"
   ]
  },
  {
   "cell_type": "code",
   "execution_count": null,
   "metadata": {
    "collapsed": true
   },
   "outputs": [],
   "source": [
    "ejemplos"
   ]
  },
  {
   "cell_type": "code",
   "execution_count": null,
   "metadata": {
    "collapsed": true
   },
   "outputs": [],
   "source": [
    "periodo 5 no implica periodo 3"
   ]
  },
  {
   "cell_type": "code",
   "execution_count": null,
   "metadata": {
    "collapsed": true
   },
   "outputs": [],
   "source": [
    "periodo 7 no implica periodo 5 ni 3"
   ]
  },
  {
   "cell_type": "markdown",
   "metadata": {},
   "source": [
    "periodo 4 implica periodo 2 y 1 y ningún otro"
   ]
  },
  {
   "cell_type": "code",
   "execution_count": 12,
   "metadata": {
    "collapsed": false
   },
   "outputs": [
    {
     "ename": "LoadError",
     "evalue": "LoadError: syntax: extra token \"de\" after end of expression\nwhile loading In[12], in expression starting on line 1",
     "output_type": "error",
     "traceback": [
      "LoadError: syntax: extra token \"de\" after end of expression\nwhile loading In[12], in expression starting on line 1",
      ""
     ]
    }
   ],
   "source": [
    "Teorema de Yorke y Li\n",
    "Periodo 3 implica caos."
   ]
  },
  {
   "cell_type": "code",
   "execution_count": null,
   "metadata": {
    "collapsed": true
   },
   "outputs": [],
   "source": [
    "El teorema de Yorke y Li es un caso particular del teorema de Sarkovskii. Pues tener un punto periodico de periodo 3 implica tener todos los periodos."
   ]
  },
  {
   "cell_type": "code",
   "execution_count": null,
   "metadata": {
    "collapsed": true
   },
   "outputs": [],
   "source": [
    "bibiliografía"
   ]
  }
 ],
 "metadata": {
  "kernelspec": {
   "display_name": "Julia 0.4.3",
   "language": "julia",
   "name": "julia-0.4"
  },
  "language_info": {
   "file_extension": ".jl",
   "mimetype": "application/julia",
   "name": "julia",
   "version": "0.4.3"
  }
 },
 "nbformat": 4,
 "nbformat_minor": 0
}
